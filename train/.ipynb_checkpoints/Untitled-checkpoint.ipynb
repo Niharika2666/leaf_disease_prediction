{
 "cells": [
  {
   "cell_type": "code",
   "execution_count": null,
   "id": "cd0ab64b-2eaf-43e6-9ab8-04d6f2a55f62",
   "metadata": {},
   "outputs": [],
   "source": []
  }
 ],
 "metadata": {
  "kernelspec": {
   "display_name": "",
   "name": ""
  },
  "language_info": {
   "name": ""
  }
 },
 "nbformat": 4,
 "nbformat_minor": 5
}
